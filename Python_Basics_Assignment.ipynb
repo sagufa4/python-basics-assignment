{
 "cells": [
  {
   "cell_type": "markdown",
   "id": "036598ac",
   "metadata": {},
   "source": [
    "## Python Basics Questions and Answers"
   ]
  },
  {
   "cell_type": "markdown",
   "id": "9e19fe8f",
   "metadata": {},
   "source": [
    "**1. What is Python, and why is it popular?**\n",
    "\n",
    "Python is a high-level, interpreted programming language known for its simplicity and readability. It is popular because it supports multiple paradigms, has a vast standard library, and is used in web development, data science, automation, etc."
   ]
  },
  {
   "cell_type": "markdown",
   "id": "c87dd9ac",
   "metadata": {},
   "source": [
    "**2. What is an interpreter in Python?**\n",
    "\n",
    "An interpreter is a program that executes Python code line by line, converting it into machine code at runtime."
   ]
  },
  {
   "cell_type": "markdown",
   "id": "4e6d38ad",
   "metadata": {},
   "source": [
    "**3. What are pre-defined keywords in Python?**\n",
    "\n",
    "These are reserved words that have special meaning in Python, like `if`, `else`, `for`, `while`, `def`, etc."
   ]
  },
  {
   "cell_type": "markdown",
   "id": "ad361f47",
   "metadata": {},
   "source": [
    "**4. Can keywords be used as variable names?**\n",
    "\n",
    "No, keywords are reserved and cannot be used as variable names."
   ]
  },
  {
   "cell_type": "markdown",
   "id": "2a378306",
   "metadata": {},
   "source": [
    "**5. What is mutability in Python?**\n",
    "\n",
    "Mutability refers to whether an object can be changed after it is created. Lists are mutable, but tuples are immutable."
   ]
  },
  {
   "cell_type": "markdown",
   "id": "d081baed",
   "metadata": {},
   "source": [
    "**6. Why are lists mutable, but tuples are immutable?**\n",
    "\n",
    "Lists are designed for dynamic data handling and support item assignment. Tuples are used for fixed data collections and are immutable for safety and performance."
   ]
  },
  {
   "cell_type": "markdown",
   "id": "86cee47a",
   "metadata": {},
   "source": [
    "**7. What is the difference between `==` and `is` operators in Python?**\n",
    "\n",
    "`==` checks for value equality, while `is` checks for object identity (whether they refer to the same object in memory)."
   ]
  },
  {
   "cell_type": "markdown",
   "id": "88212fa6",
   "metadata": {},
   "source": [
    "**8. What are logical operators in Python?**\n",
    "\n",
    "`and`, `or`, and `not`."
   ]
  },
  {
   "cell_type": "markdown",
   "id": "0b4e4689",
   "metadata": {},
   "source": [
    "**9. What is type casting in Python?**\n",
    "\n",
    "Type casting is converting one data type into another, e.g., `int('5')` converts a string to an integer."
   ]
  },
  {
   "cell_type": "markdown",
   "id": "cefb62a5",
   "metadata": {},
   "source": [
    "**10. What is the difference between implicit and explicit type casting?**\n",
    "\n",
    "**Implicit:** Automatically done by Python (e.g., `int` + `float` → `float`).\n",
    "\n",
    "**Explicit:** Done manually using functions like `int()`, `float()`, etc."
   ]
  },
  {
   "cell_type": "markdown",
   "id": "74481528",
   "metadata": {},
   "source": [
    "**11. What is the purpose of conditional statements in Python?**\n",
    "\n",
    "To make decisions in code using `if`, `elif`, and `else`."
   ]
  },
  {
   "cell_type": "markdown",
   "id": "62e6d1e5",
   "metadata": {},
   "source": [
    "**12. How does the `elif` statement work?**\n",
    "\n",
    "It provides multiple conditions to check after the initial `if`."
   ]
  },
  {
   "cell_type": "markdown",
   "id": "6e72c333",
   "metadata": {},
   "source": [
    "**13. What is the difference between `for` and `while` loops?**\n",
    "\n",
    "`for` is used for iterating over a sequence.\n",
    "\n",
    "`while` runs as long as a condition is true."
   ]
  },
  {
   "cell_type": "markdown",
   "id": "c6bee65b",
   "metadata": {},
   "source": [
    "**14. Describe a scenario where a `while` loop is more suitable than a `for` loop.**\n",
    "\n",
    "When the number of iterations is not known beforehand (e.g., reading user input until 'exit' is entered)."
   ]
  },
  {
   "cell_type": "markdown",
   "id": "36dbb99d",
   "metadata": {},
   "source": [
    "## Python Practical Questions and Code"
   ]
  },
  {
   "cell_type": "code",
   "execution_count": null,
   "id": "b7eaeb50",
   "metadata": {},
   "outputs": [],
   "source": [
    "print(\"Hello, World!\")"
   ]
  },
  {
   "cell_type": "code",
   "execution_count": null,
   "id": "779e68fe",
   "metadata": {},
   "outputs": [],
   "source": [
    "name = \"Alice\"\n",
    "age = 25\n",
    "print(\"Name:\", name)\n",
    "print(\"Age:\", age)"
   ]
  },
  {
   "cell_type": "code",
   "execution_count": null,
   "id": "ec9ee5c6",
   "metadata": {},
   "outputs": [],
   "source": [
    "import keyword\n",
    "print(keyword.kwlist)"
   ]
  },
  {
   "cell_type": "code",
   "execution_count": null,
   "id": "d291e7ae",
   "metadata": {},
   "outputs": [],
   "source": [
    "import keyword\n",
    "word = \"for\"\n",
    "print(keyword.iskeyword(word))"
   ]
  },
  {
   "cell_type": "code",
   "execution_count": null,
   "id": "53735a4f",
   "metadata": {},
   "outputs": [],
   "source": [
    "my_list = [1, 2, 3]\n",
    "my_tuple = (1, 2, 3)\n",
    "my_list[0] = 10  # Works\n",
    "# my_tuple[0] = 10  # Raises error"
   ]
  },
  {
   "cell_type": "code",
   "execution_count": null,
   "id": "e9d5bccf",
   "metadata": {},
   "outputs": [],
   "source": [
    "def modify(x):\n",
    "    x[0] = 100\n",
    "a = [1, 2, 3]\n",
    "modify(a)\n",
    "print(a)  # Changed, because list is mutable"
   ]
  },
  {
   "cell_type": "code",
   "execution_count": null,
   "id": "5cd5fc89",
   "metadata": {},
   "outputs": [],
   "source": [
    "a = int(input(\"Enter a number: \"))\n",
    "b = int(input(\"Enter another number: \"))\n",
    "print(\"Sum:\", a + b)\n",
    "print(\"Difference:\", a - b)\n",
    "print(\"Product:\", a * b)\n",
    "print(\"Quotient:\", a / b)"
   ]
  },
  {
   "cell_type": "code",
   "execution_count": null,
   "id": "7cc62cb9",
   "metadata": {},
   "outputs": [],
   "source": [
    "x = 5\n",
    "y = 10\n",
    "print(x > 3 and y > 5)"
   ]
  },
  {
   "cell_type": "code",
   "execution_count": null,
   "id": "cd3e3b76",
   "metadata": {},
   "outputs": [],
   "source": [
    "s = input(\"Enter a value: \")\n",
    "print(int(s))\n",
    "print(float(s))\n",
    "print(bool(s))"
   ]
  },
  {
   "cell_type": "code",
   "execution_count": null,
   "id": "18aad250",
   "metadata": {},
   "outputs": [],
   "source": [
    "lst = [\"1\", \"2\", \"3\"]\n",
    "int_list = [int(i) for i in lst]\n",
    "print(int_list)"
   ]
  },
  {
   "cell_type": "code",
   "execution_count": null,
   "id": "c21ada7c",
   "metadata": {},
   "outputs": [],
   "source": [
    "num = int(input())\n",
    "if num > 0:\n",
    "    print(\"Positive\")\n",
    "elif num < 0:\n",
    "    print(\"Negative\")\n",
    "else:\n",
    "    print(\"Zero\")"
   ]
  },
  {
   "cell_type": "code",
   "execution_count": null,
   "id": "ad7c10c8",
   "metadata": {},
   "outputs": [],
   "source": [
    "for i in range(1, 11):\n",
    "    print(i)"
   ]
  },
  {
   "cell_type": "code",
   "execution_count": null,
   "id": "64d6ba70",
   "metadata": {},
   "outputs": [],
   "source": [
    "sum_even = sum(i for i in range(1, 51) if i % 2 == 0)\n",
    "print(sum_even)"
   ]
  },
  {
   "cell_type": "code",
   "execution_count": null,
   "id": "509e29a8",
   "metadata": {},
   "outputs": [],
   "source": [
    "s = \"Python\"\n",
    "i = len(s) - 1\n",
    "while i >= 0:\n",
    "    print(s[i], end=\"\")\n",
    "    i -= 1"
   ]
  },
  {
   "cell_type": "code",
   "execution_count": null,
   "id": "00776fc1",
   "metadata": {},
   "outputs": [],
   "source": [
    "num = int(input(\"Enter number: \"))\n",
    "fact = 1\n",
    "while num > 1:\n",
    "    fact *= num\n",
    "    num -= 1\n",
    "print(\"Factorial:\", fact)"
   ]
  }
 ],
 "metadata": {},
 "nbformat": 4,
 "nbformat_minor": 5
}